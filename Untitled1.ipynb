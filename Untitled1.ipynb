{
 "cells": [
  {
   "cell_type": "code",
   "execution_count": 1,
   "metadata": {},
   "outputs": [],
   "source": [
    "import cv2\n",
    "import numpy as np\n",
    "import os\n",
    "from multiprocessing import Pool\n",
    "import time\n",
    "from tqdm import *"
   ]
  },
  {
   "cell_type": "code",
   "execution_count": 2,
   "metadata": {},
   "outputs": [],
   "source": [
    "def convert2image(label):\n",
    "    label2color = {\n",
    "            0: [0, 0, 0],\n",
    "            1: [0, 255, 255],\n",
    "            2: [255, 255, 0],\n",
    "            3: [255, 0, 255],\n",
    "            4: [0, 255, 0],\n",
    "            5: [0, 0, 255],\n",
    "            6: [255, 255, 255]\n",
    "        }\n",
    "    l, w = label.shape[0], label.shape[1]\n",
    "    colmap = np.zeros(shape=(l, w, 3)).astype(np.float32)\n",
    "    for classnum, color in label2color.items():\n",
    "        indices = np.where(label == classnum)\n",
    "        colmap[indices[0].tolist(), indices[1].tolist(), :] = color\n",
    "    return colmap[:, :,[2,1,0]]"
   ]
  },
  {
   "cell_type": "code",
   "execution_count": 3,
   "metadata": {},
   "outputs": [],
   "source": [
    "from scipy import stats\n",
    "def combine_predictions(image_id):\n",
    "    image_names = [\n",
    "        image_id + \"_global.npy\",\n",
    "        image_id + \"_0_local.npy\",\n",
    "        image_id + \"_1_local.npy\",\n",
    "        image_id + \"_0_aggre.npy\",\n",
    "        image_id + \"_1_aggre.npy\"\n",
    "    ]\n",
    "    predictions = np.vstack([np.argmax(np.load(name), axis=0).reshape(-1, 2448, 2448) for name in image_names])\n",
    "    voting, _ = stats.mode(predictions,  axis=0)\n",
    "    np.save(\"prediction/combination/\"+image_id.split(\"/\")[-1]+\".npy\", voting[0])"
   ]
  },
  {
   "cell_type": "code",
   "execution_count": 4,
   "metadata": {},
   "outputs": [],
   "source": [
    "params = set()\n",
    "for name in os.listdir(\"features/out\"):\n",
    "    if not name.endswith(\".npy\"): continue\n",
    "    params.add(\"features/out/\"+ name.split(\"_\")[0])\n",
    "params = list(params)"
   ]
  },
  {
   "cell_type": "code",
   "execution_count": 5,
   "metadata": {},
   "outputs": [
    {
     "name": "stderr",
     "output_type": "stream",
     "text": [
      "100%|██████████| 142/142 [24:41<00:00, 10.43s/it] \n"
     ]
    }
   ],
   "source": [
    "with Pool(processes=20) as p:\n",
    "    max_ = len(params)\n",
    "    with tqdm(total=max_) as pbar:\n",
    "        for i, _ in enumerate(p.imap_unordered(combine_predictions, params)):\n",
    "            pbar.update()"
   ]
  },
  {
   "cell_type": "markdown",
   "metadata": {},
   "source": [
    "# Evaluation"
   ]
  },
  {
   "cell_type": "code",
   "execution_count": 7,
   "metadata": {},
   "outputs": [],
   "source": [
    "from utils.metrics import ConfusionMatrix\n",
    "from PIL import Image"
   ]
  },
  {
   "cell_type": "code",
   "execution_count": 8,
   "metadata": {},
   "outputs": [],
   "source": [
    "metric = ConfusionMatrix(7)"
   ]
  },
  {
   "cell_type": "code",
   "execution_count": 9,
   "metadata": {},
   "outputs": [],
   "source": [
    "def RGBToClass(label):\n",
    "    label2color = {\n",
    "            0: [0, 0, 0],\n",
    "            1: [0, 255, 255],\n",
    "            2: [255, 255, 0],\n",
    "            3: [255, 0, 255],\n",
    "            4: [0, 255, 0],\n",
    "            5: [0, 0, 255],\n",
    "            6: [255, 255, 255]\n",
    "        }\n",
    "    l, w = label.shape[0], label.shape[1]\n",
    "    classmap = np.zeros(shape=(l, w))\n",
    "    for classnum, color in label2color.items():\n",
    "        indices = np.where(np.all(label == tuple(color), axis=-1))\n",
    "        classmap[indices[0].tolist(), indices[1].tolist()] = classnum\n",
    "    return classmap"
   ]
  },
  {
   "cell_type": "code",
   "execution_count": 18,
   "metadata": {},
   "outputs": [
    {
     "name": "stderr",
     "output_type": "stream",
     "text": [
      "100%|██████████| 142/142 [07:23<00:00,  3.12s/it]\n"
     ]
    }
   ],
   "source": [
    "metric = ConfusionMatrix(7)\n",
    "for pred_name in tqdm(os.listdir(\"prediction/combination\")):\n",
    "    if not pred_name.endswith(\".npy\"):\n",
    "        continue\n",
    "    pred = np.load(os.path.join(\"prediction/combination\", pred_name))\n",
    "    label_name = \"/vinai/chuonghm/deep_globe/test/Label/\" + pred_name.replace(\".npy\", \"_mask.png\")\n",
    "    label = np.array(Image.open(label_name).convert(\"RGB\"))\n",
    "    label = RGBToClass(label)\n",
    "    metric.update(label, pred)"
   ]
  },
  {
   "cell_type": "code",
   "execution_count": 21,
   "metadata": {},
   "outputs": [
    {
     "name": "stdout",
     "output_type": "stream",
     "text": [
      "IoU aggregation: 0.6860\n",
      "val:[0.36288267 0.77016891 0.85493789 0.34098042 0.78247011 0.7699652\n",
      " 0.59723507]\n",
      "================================\n",
      "\n"
     ]
    }
   ],
   "source": [
    "score_val = metric.get_scores()\n",
    "score = score_val[\"iou\"][1:]\n",
    "score = np.mean(np.nan_to_num(score))\n",
    "\n",
    "# Log the results\n",
    "log = \"\"\n",
    "log = log + 'IoU aggregation: {:.4f}'.format(score) + \"\\n\"\n",
    "log = log + \"val:\" + str(score_val[\"iou\"]) + \"\\n\"\n",
    "log += \"================================\\n\"\n",
    "print(log)"
   ]
  },
  {
   "cell_type": "code",
   "execution_count": 6,
   "metadata": {},
   "outputs": [],
   "source": [
    "image_id = \"features/out/321711\"\n",
    "image_names = [\n",
    "    \"features/out/321711\" + \"_global.npy\",\n",
    "    \"features/out/321711\" + \"_0_local.npy\",\n",
    "    \"features/out/321711\" + \"_1_local.npy\",\n",
    "    \"features/out/321711\" + \"_0_aggre.npy\",\n",
    "    \"features/out/321711\" + \"_1_aggre.npy\"\n",
    "]\n",
    "glob = np.load(\"features/out/321711_global.npy\")"
   ]
  },
  {
   "cell_type": "code",
   "execution_count": 27,
   "metadata": {},
   "outputs": [],
   "source": [
    "from scipy import stats\n",
    "image_id = \"features/out/321711\"\n",
    "image_names = [\n",
    "    image_id + \"_global.npy\",\n",
    "    image_id + \"_0_local.npy\",\n",
    "    image_id + \"_1_local.npy\",\n",
    "    image_id + \"_0_aggre.npy\",\n",
    "    image_id + \"_1_aggre.npy\"\n",
    "]\n",
    "predictions = np.vstack([np.argmax(np.load(name), axis=0).reshape(-1, 2448, 2448) for name in image_names])\n",
    "voting, _ = stats.mode(predictions,  axis=0)\n",
    "#voting = np.apply_along_axis(lambda x: np., axis=0, arr=predictions)"
   ]
  },
  {
   "cell_type": "code",
   "execution_count": 26,
   "metadata": {},
   "outputs": [
    {
     "data": {
      "text/plain": [
       "(5, 2448, 2448)"
      ]
     },
     "execution_count": 26,
     "metadata": {},
     "output_type": "execute_result"
    }
   ],
   "source": [
    "predictions.shape"
   ]
  },
  {
   "cell_type": "code",
   "execution_count": 38,
   "metadata": {},
   "outputs": [
    {
     "data": {
      "text/plain": [
       "(1, 2448, 2448)"
      ]
     },
     "execution_count": 38,
     "metadata": {},
     "output_type": "execute_result"
    }
   ],
   "source": [
    "voting.shape"
   ]
  },
  {
   "cell_type": "code",
   "execution_count": 33,
   "metadata": {},
   "outputs": [],
   "source": [
    "a = convert2image(voting.squeeze())"
   ]
  },
  {
   "cell_type": "code",
   "execution_count": 35,
   "metadata": {},
   "outputs": [
    {
     "data": {
      "text/plain": [
       "True"
      ]
     },
     "execution_count": 35,
     "metadata": {},
     "output_type": "execute_result"
    }
   ],
   "source": [
    "cv2.imwrite(\"combine.png\", a)"
   ]
  },
  {
   "cell_type": "code",
   "execution_count": 37,
   "metadata": {},
   "outputs": [],
   "source": [
    "for image_name in image_names:\n",
    "    a = convert2image(np.argmax(np.load(image_name), axis=0))\n",
    "    cv2.imwrite(image_name.split(\"/\")[-1].replace(\".npy\", \".png\"), a)"
   ]
  },
  {
   "cell_type": "code",
   "execution_count": null,
   "metadata": {},
   "outputs": [],
   "source": []
  }
 ],
 "metadata": {
  "kernelspec": {
   "display_name": "Python 3",
   "language": "python",
   "name": "python3"
  },
  "language_info": {
   "codemirror_mode": {
    "name": "ipython",
    "version": 3
   },
   "file_extension": ".py",
   "mimetype": "text/x-python",
   "name": "python",
   "nbconvert_exporter": "python",
   "pygments_lexer": "ipython3",
   "version": "3.6.9"
  }
 },
 "nbformat": 4,
 "nbformat_minor": 4
}
